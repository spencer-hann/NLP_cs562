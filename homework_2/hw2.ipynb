{
 "cells": [
  {
   "cell_type": "markdown",
   "metadata": {},
   "source": [
    "# Homework 2: Text Classification\n",
    "\n",
    "Text classification is a fundamental NLP task. In this assignment, you will build and evaluate a simple text classification pipeline, using both from-scratch as well as library implementations of standard classification algorithms.\n",
    "\n",
    "This problem set is adapted from the first problem set given in Jacob Eisentstein's Spring Term 2018 course in NLP, taught at Georgia Tech, and is modified from [the original](https://github.com/jacobeisenstein/gt-nlp-class/blob/master/psets/ps1/pset1.ipynb) with permission of the author."
   ]
  },
  {
   "cell_type": "markdown",
   "metadata": {},
   "source": [
    "## 0. Setup\n",
    "\n",
    "You will need to install several Python libraries in order to do this assignment. They are all installable with either `anaconda` or `pip`.\n",
    "\n",
    "* jupyter\n",
    "* matplotlib\n",
    "* sklearn\n",
    "* nose\n",
    "* pandas\n",
    "\n",
    "Most of your coding for this assignment will be in files in the `hw2_utils` package as well as in this Jupyter notebook. I have also provided automated unit tests which will help you determine if your code is working correctly, located in the `tests` directory. You are free to examine the code for the unit tests- in fact, you _should_ examine the code, as you will likely find it helpful. Note that these tests are the same ones that I will be using to help grade the assignment, so one of your goals with this assignment is to get all of the tests to pass. For more information about working with unit tests, see [this guide](http://pythontesting.net/framework/nose/nose-introduction/).\n",
    "\n",
    "Note that the skeleton function implementations in `hw2_utils` all have careful and precise docstring annotations indicating types of parameters and returns. Pay careful attention to these, as you will be using your own functions elsewhere in the assignment!\n",
    "\n",
    "If you have never used Jupyter notebooks before, [this guide](https://www.dataquest.io/blog/jupyter-notebook-tutorial/) may be useful."
   ]
  },
  {
   "cell_type": "markdown",
   "metadata": {},
   "source": [
    "### Verification & loading of packages, etc."
   ]
  },
  {
   "cell_type": "code",
   "execution_count": 1,
   "metadata": {},
   "outputs": [],
   "source": [
    "import sys\n",
    "from importlib import reload"
   ]
  },
  {
   "cell_type": "markdown",
   "metadata": {},
   "source": [
    "If you do not already have the relevant packages installed, execute the following cell:"
   ]
  },
  {
   "cell_type": "code",
   "execution_count": 2,
   "metadata": {
    "scrolled": true
   },
   "outputs": [
    {
     "name": "stdout",
     "output_type": "stream",
     "text": [
      "Collecting sklearn\n",
      "Collecting nose\n",
      "  Using cached https://files.pythonhosted.org/packages/99/4f/13fb671119e65c4dce97c60e67d3fd9e6f7f809f2b307e2611f4701205cb/nose-1.3.7-py2-none-any.whl\n",
      "Collecting matplotlib\n",
      "  Using cached https://files.pythonhosted.org/packages/59/08/04933377dc4500e3698e93f9113dc3624874e0914f4c85767ecb5b389084/matplotlib-2.2.3-cp27-cp27mu-manylinux1_x86_64.whl\n",
      "Collecting pandas\n",
      "  Using cached https://files.pythonhosted.org/packages/b7/e3/f52d484244105fa3d558ce8217a5190cd3d40536076bef66d92d01566325/pandas-0.23.4-cp27-cp27mu-manylinux1_x86_64.whl\n",
      "Collecting scikit-learn (from sklearn)\n",
      "  Using cached https://files.pythonhosted.org/packages/9e/29/bbf3414ba3d03cf1f8d8516e56d69e44ec0ad3fc79a3713b1c6809070e7d/scikit_learn-0.20.2-cp27-cp27mu-manylinux1_x86_64.whl\n",
      "Collecting cycler>=0.10 (from matplotlib)\n",
      "  Using cached https://files.pythonhosted.org/packages/f7/d2/e07d3ebb2bd7af696440ce7e754c59dd546ffe1bbe732c8ab68b9c834e61/cycler-0.10.0-py2.py3-none-any.whl\n",
      "Collecting numpy>=1.7.1 (from matplotlib)\n",
      "\u001b[33m  Cache entry deserialization failed, entry ignored\u001b[0m\n",
      "  Using cached https://files.pythonhosted.org/packages/9f/85/163127d3fb0573deb9eca947cfc73aa3618eaaf8656501460574471d114a/numpy-1.16.0-cp27-cp27mu-manylinux1_x86_64.whl\n",
      "Collecting backports.functools-lru-cache (from matplotlib)\n",
      "  Using cached https://files.pythonhosted.org/packages/03/8e/2424c0e65c4a066e28f539364deee49b6451f8fcd4f718fefa50cc3dcf48/backports.functools_lru_cache-1.5-py2.py3-none-any.whl\n",
      "Collecting subprocess32 (from matplotlib)\n",
      "Collecting kiwisolver>=1.0.1 (from matplotlib)\n",
      "  Using cached https://files.pythonhosted.org/packages/3a/62/a8c9bef3059d55ab38e41fe9cba4fad773bfc04e47290bab84db1c18262e/kiwisolver-1.0.1-cp27-cp27mu-manylinux1_x86_64.whl\n",
      "Collecting pytz (from matplotlib)\n",
      "  Using cached https://files.pythonhosted.org/packages/61/28/1d3920e4d1d50b19bc5d24398a7cd85cc7b9a75a490570d5a30c57622d34/pytz-2018.9-py2.py3-none-any.whl\n",
      "Collecting six>=1.10 (from matplotlib)\n",
      "  Using cached https://files.pythonhosted.org/packages/73/fb/00a976f728d0d1fecfe898238ce23f502a721c0ac0ecfedb80e0d88c64e9/six-1.12.0-py2.py3-none-any.whl\n",
      "Collecting python-dateutil>=2.1 (from matplotlib)\n",
      "  Using cached https://files.pythonhosted.org/packages/74/68/d87d9b36af36f44254a8d512cbfc48369103a3b9e474be9bdfe536abfc45/python_dateutil-2.7.5-py2.py3-none-any.whl\n",
      "Collecting pyparsing!=2.0.4,!=2.1.2,!=2.1.6,>=2.0.1 (from matplotlib)\n",
      "  Using cached https://files.pythonhosted.org/packages/de/0a/001be530836743d8be6c2d85069f46fecf84ac6c18c7f5fb8125ee11d854/pyparsing-2.3.1-py2.py3-none-any.whl\n",
      "Collecting scipy>=0.13.3 (from scikit-learn->sklearn)\n",
      "  Using cached https://files.pythonhosted.org/packages/45/d1/7c2b33a5daee3d67752d043fe7e1476c4465788b0b6e59367fd71fdf684a/scipy-1.2.0-cp27-cp27mu-manylinux1_x86_64.whl\n",
      "Collecting setuptools (from kiwisolver>=1.0.1->matplotlib)\n",
      "  Using cached https://files.pythonhosted.org/packages/37/06/754589caf971b0d2d48f151c2586f62902d93dc908e2fd9b9b9f6aa3c9dd/setuptools-40.6.3-py2.py3-none-any.whl\n",
      "Installing collected packages: numpy, scipy, scikit-learn, sklearn, nose, six, cycler, backports.functools-lru-cache, subprocess32, setuptools, kiwisolver, pytz, python-dateutil, pyparsing, matplotlib, pandas\n",
      "Successfully installed backports.functools-lru-cache-1.5 cycler-0.10.0 kiwisolver-1.0.1 matplotlib-2.2.3 nose-1.3.7 numpy-1.16.0 pandas-0.23.4 pyparsing-2.3.1 python-dateutil-2.7.5 pytz-2018.9 scikit-learn-0.20.2 scipy-1.2.0 setuptools-40.6.3 six-1.12.0 sklearn-0.0 subprocess32-3.5.3\n"
     ]
    }
   ],
   "source": [
    "!pip install sklearn nose matplotlib pandas"
   ]
  },
  {
   "cell_type": "code",
   "execution_count": 3,
   "metadata": {},
   "outputs": [],
   "source": [
    "import nose\n",
    "import pandas as pd\n",
    "import numpy as np\n",
    "import scipy as sp\n",
    "import matplotlib\n",
    "import matplotlib.pyplot as plt\n",
    "%matplotlib inline"
   ]
  },
  {
   "cell_type": "markdown",
   "metadata": {},
   "source": [
    "What versions do you have installed?"
   ]
  },
  {
   "cell_type": "code",
   "execution_count": 4,
   "metadata": {},
   "outputs": [
    {
     "name": "stdout",
     "output_type": "stream",
     "text": [
      "My library versions:\n",
      "Pandas: 0.23.4\n",
      "Numpy: 1.16.0\n",
      "Scipy: 1.2.0\n",
      "matplotlib: 3.0.2\n",
      "nose: 1.3.7\n"
     ]
    }
   ],
   "source": [
    "print(\"My library versions:\")\n",
    "print(f\"Pandas: {pd.__version__}\")\n",
    "print(f\"Numpy: {np.__version__}\")\n",
    "print(f\"Scipy: {sp.__version__}\")\n",
    "print(f\"matplotlib: {matplotlib.__version__}\")\n",
    "print(f\"nose: {nose.__version__}\")"
   ]
  },
  {
   "cell_type": "code",
   "execution_count": 5,
   "metadata": {},
   "outputs": [
    {
     "name": "stdout",
     "output_type": "stream",
     "text": [
      "3.6.7 (default, Oct 22 2018, 11:32:17) \n",
      "[GCC 8.2.0]\n"
     ]
    }
   ],
   "source": [
    "print(sys.version)"
   ]
  },
  {
   "cell_type": "markdown",
   "metadata": {},
   "source": [
    "Let's run our first unit test, to make sure that your environment is set up correctly:"
   ]
  },
  {
   "cell_type": "code",
   "execution_count": 6,
   "metadata": {},
   "outputs": [
    {
     "name": "stdout",
     "output_type": "stream",
     "text": [
      "F\r\n",
      "======================================================================\r\n",
      "FAIL: test_environment.test_library_versions\r\n",
      "----------------------------------------------------------------------\r\n",
      "Traceback (most recent call last):\r\n",
      "  File \"/home/spencer/.local/lib/python2.7/site-packages/nose/case.py\", line 197, in runTest\r\n",
      "    self.test(*self.arg)\r\n",
      "  File \"/home/spencer/ohsu/562/homework_2/tests/test_environment.py\", line 22, in test_library_versions\r\n",
      "    ok_(LooseVersion(sys.version) > LooseVersion(min_python))\r\n",
      "AssertionError: None\r\n",
      "-------------------- >> begin captured logging << --------------------\r\n",
      "matplotlib: DEBUG: $HOME=/home/spencer\r\n",
      "matplotlib: DEBUG: matplotlib data path /home/spencer/.local/lib/python2.7/site-packages/matplotlib/mpl-data\r\n",
      "matplotlib: DEBUG: loaded rc file /home/spencer/.local/lib/python2.7/site-packages/matplotlib/mpl-data/matplotlibrc\r\n",
      "matplotlib: DEBUG: matplotlib version 2.2.3\r\n",
      "matplotlib: DEBUG: interactive is False\r\n",
      "matplotlib: DEBUG: platform is linux2\r\n",
      "matplotlib: DEBUG: loaded modules: ['email.MIMEAudio', 'pandas.io.urllib2', 'numpy.core.info', 'pandas.core.arrays.categorical', 'nose.plugins.doctest', 'nose.plugins.tempfile', 'pandas.core.indexes.pandas', 'ctypes.os', 'hotshot.warnings', 'hotshot.stats', 'gc', 'pandas._libs.hashing', 'pandas.core.indexes.numpy', 'pandas._libs.tslibs.locale', 'pkg_resources._vendor.traceback', 'pandas.plotting._converter', 'nose.plugins.attrib', 'pandas._libs.tslibs.parsing', 'numpy.random.threading', 'logging.weakref', 'pandas.plotting.math', 'dateutil.tz.os', 'pprint', 'nose.plugins.logcapture', 'pandas.core.dtypes.missing', 'nose.new', 'unittest.sys', 'numpy.core.umath', 'nose.os', 'numpy._pytesttester', 'string', 'dateutil.parser._parser', 'numpy.lib.arraysetops', 'nose.plugins.__builtin__', 'encodings.utf_8', 'pandas.util.warnings', 'email.quoprimime', 'numpy.ctypeslib', 'pandas.io.contextlib', 'json.encoder', 'pandas.plotting.re', 'subprocess', 'numpy.core.machar', '_ast', 'pandas.io.urllib', 'nose.plugins.optparse', 'email.codecs', 'pandas.core.dtypes.numbers', 'numpy.ma.extras', 'numpy.fft.fftpack_lite', 'matplotlib.cbook', 'pandas.core.inspect', 'multiprocessing', 'dis', 'numpy.lib', 'logging.threading', 'pkg_resources._vendor.pprint', 'nose.plugins.multiprocessing', '_json', 'pandas.io.csv', 'pandas._libs.tslibs.textwrap', 'hotshot.profile', 'numpy.core._ctypes', 'matplotlib.cbook.warnings', 'pyparsing', 'matplotlib.cbook.textwrap', 'test_environment', 'pkg_resources.extern.appdirs', 'hotshot.hotshot', 'pkg_resources._vendor.collections', 'dateutil.parser.warnings', 'pandas.plotting.contextlib', 'numpy._globals', 'numpy.lib.npyio', 'xml.sax.io', 'email.random', 'nose.tools.unittest', 'nose.plugins.re', 'numpy.fft.helper', 'hotshot.log', 'nose.plugins.sys', 'matplotlib.rcsetup', 'optparse', 'unittest.suite', '_ctypes', 'glob', 'exceptions', 'pandas.core.types', '_cython_0_28_2', 'codecs', 'pandas.compat.platform', 'numpy.os', 'pandas._libs.join', 'dateutil.warnings', 'email.socket', 'StringIO', 'pandas.core.textwrap', '_hotshot', 'pkg_resources', 'weakref', 'numpy.core._internal', 'doctest', 'pandas.io', 'distutils.sys', 'numpy.lib.arraypad', 'pandas._libs.tslibs.StringIO', 'pandas.core.groupby', 'base64', 'dateutil.parser.isoparser', 'pandas._libs.tslibs.ccalendar', '_sre', 'pandas.core.functools', 'email.FeedParser', 'pandas.core.numpy', 'pandas.core.dtypes.collections', 'email.charset', 'pandas.compat.numpy.numpy', 'pkg_resources._vendor.datetime', 'pandas.core.util.numpy', 'select', 'ctypes._ctypes', '_heapq', 'pandas._libs.interval', 'numpy.lib.financial', 'pandas.util.types', 'pandas.errors.pandas', 'pandas._libs.decimal', 'binascii', 'nose.plugins.os', 'pandas._libs.tslibs.timedeltas', 'email.MIMEMessage', 'email._parseaddr', 'email.sys', 'hotshot.parser', 'unittest.fnmatch', 'pandas.plotting.dateutil', 'dateutil.tz._common', 'pkg_resources._vendor.six.moves.urllib', 'pandas.compat.StringIO', 'numpy.polynomial.chebyshev', 'pandas.core.re', 'pkg_resources.extern.six.moves.urllib', 'cPickle', 'numpy.polynomial.hermite_e', 'pandas.compat.collections', 'pandas._libs.tslibs.timezones', 'pandas.core.distutils', 'pandas.core.indexes.operator', 'pandas._libs.operator', 'pandas.core.accessor', 'pandas.core.tools.timedeltas', 'pandas.core.dtypes.pandas', 'numpy.core.fromnumeric', 'unicodedata', 'nose.plugins', 'matplotlib._version', 'nose.plugins.xml', 'pandas.io.formats.sys', 'pkg_resources.os', 'pandas.pandas', 'pkg_resources._vendor.copy', 'encodings.aliases', 'fnmatch', 'sre_parse', 'pandas.io.formats.locale', 'pickle', 'pandas.core.indexes.textwrap', 'numpy.random.warnings', 'xml.sax.types', 'pandas.io.mmap', 'pandas.util.inspect', 'pandas._libs.sparse', 'logging.cStringIO', 'nose.time', 'numpy.lib.polynomial', 'numpy.compat', 'dateutil.parser.__future__', 'pkg_resources._vendor.os', 'pkg_resources.extern.six', 'pandas.core.tokenize', 'numbers', 'nose.pyversion', 'numpy.core.records', 'pandas.core.keyword', 'email.message', 'email.Header', 'pandas.core.indexes.multi', 'email.MIMEBase', 'strop', 'numpy.core.numeric', 'pandas.core.sparse.__future__', 'six', 'pandas._libs.tslibs.datetime', 'pandas._libs.tslibs.timestamps', 'pandas._libs.index', 'pandas.core.groupby.copy', 'matplotlib.testing', 'pandas.core.copy', 'csv', 'pandas.core.arrays.pandas', 'profile', 'nose.tools', 'pandas._libs.tslibs.conversion', 'dateutil.relativedelta', 'numpy.linalg.lapack_lite', 'numpy.core._multiarray_tests', 'pandas.compat.unicodedata', 'multiprocessing.sys', 'numpy.lib.arrayterator', 'email.parser', 'pandas.plotting.collections', 'pkg_resources._vendor.__builtin__', 'os.path', 'pandas.core.collections', 'pandas.compat.types', 'nose.sys', 'pkg_resources.extern.packaging.specifiers', 'email.base64mime', 'pandas.errors', '_weakrefset', 'nose.plugins.plugintest', 'unittest.traceback', 'unittest.os', 'numpy.version', 'functools', 'pkg_resources._vendor.weakref', 'pandas.core.util', 'pandas.core.base', 'sysconfig', 'email.MIMEImage', 'pandas.core.groupby.pandas', 'pandas.plotting.warnings', 'pandas.core.indexes.period', 'email.MIMEText', 'numpy.polynomial.legendre', 'nose.plugins.testid', 'dateutil.tz.time', 'nose.itertools', '_bisect', 'numpy.matrixlib.defmatrix', 'tempfile', 'dateutil.tz.tz', 'pandas.core.operator', 'pandas._libs.tslibs.pandas', 'imp', 'pkg_resources._vendor', 'multiprocessing.os', 'multiprocessing.itertools', 'pandas.io.formats.printing', 'nose.plugins.cover', 'pandas.util.pandas', 'unittest.time', 'pandas.core.sparse.warnings', 'numpy.linalg.info', 'unittest.functools', 'pkg_resources._vendor.six', 'unittest.util', 'pandas._libs.tslibs.time', 'pkg_resources.errno', 'email.urllib', 'numpy.core.os', 'pandas.core.dtypes.numpy', 'pandas.core.indexes.accessors', 'httplib', 'pandas._libs.properties', 'unittest.StringIO', 'pytz.collections', 'decimal', 'pandas.io.common', 'numpy.lib._datasource', 'dateutil.tz.datetime', 'token', 'email.encoders', 'dateutil.operator', 'numpy.linalg._umath_linalg', 'dateutil.tz.struct', 'cStringIO', 'cmd', 'nose.plugins.signal', 'numpy.random.mtrand', 'numpy.core._add_newdocs', 'multiprocessing.process', 'pkg_resources.extern.packaging.requirements', 'pandas.core.indexes.frozen', 'nose.loader', 'pandas.core.dtypes.concat', 'nose.traceback', 'dateutil.six', 'nose.plugins.doctests', 'pandas._libs.tslibs.frequencies', 'json', 'json.struct', 'pytz.pytz', 'pkg_resources._vendor.packaging.__about__', 're', 'numpy.core.collections', 'nose.plugins.traceback', 'email.quopri', 'dateutil._common', 'math', 'ast', 'dateutil.tz.six', 'dateutil.easter', 'numpy.lib.ufunclike', 'nose.tools.nontrivial', 'ctypes.struct', 'numpy.core.sys', 'pandas._libs.tslibs.resolution', '_sysconfigdata_nd', 'numpy.testing._private', 'matplotlib.json', 'pandas.core.strings', '_locale', 'logging', 'thread', 'pandas.compat.functools', 'pandas.compat.numpy.distutils', 'traceback', 'nose.plugins.failuredetail', 'pandas._libs.tslibs.period', 'pandas.core.sys', 'numpy.core', 'errno', 'multiprocessing.util', 'pandas.tseries.operator', 'pandas.io.formats.os', 'pkg_resources._vendor.packaging.markers', 'pkg_resources._vendor.packaging.version', 'pandas.core.pandas', '_collections', 'pandas.compat.numpy.pandas', 'xml.sax.sys', 'nose.optparse', 'pandas.util.functools', 'numpy.lib.twodim_base', 'pandas._libs.numbers', 'pandas.compat.httplib', 'pandas.core.indexes.warnings', 'pandas.core.tools.collections', 'array', 'email.Errors', 'nose.plugins.deprecated', 'ctypes.sys', 'pandas.tseries.dateutil', 'posixpath', 'pandas.compat.pandas', 'pandas._libs.tslibs.nattype', 'pkg_resources._vendor.packaging._compat', 'pytz.exceptions', 'numpy.core.arrayprint', 'nose.nose', 'types', 'numpy.lib.stride_tricks', 'numpy.lib.scimath', 'pandas.core.indexes.category', 'json._json', 'xml.sax.os', 'pandas.tseries.pandas', 'pandas.tseries.datetime', 'pandas.io.codecs', '_codecs', 'nose.core', 'pandas._libs.hashtable', 'email.feedparser', 'dateutil.parser.calendar', 'pandas.core.tools.datetimes', 'pandas.io.formats.terminal', 'numpy.core._string_helpers', 'pandas.tseries.pytz', 'pandas.plotting.numpy', 'email.time', 'hashlib', 'pandas.plotting._style', 'keyword', 'pandas.core.indexes.__future__', 'pandas.core.groupby.numpy', 'pkg_resources._vendor.pyparsing', 'pandas.compat.distutils', 'numpy.lib.nanfunctions', 'xml.sax.saxutils', 'unittest.weakref', 'posix', 'nose.selector', 'pandas.core.groupby.groupby', 'pandas.core.arrays.textwrap', 'pandas.core.nanops', 'pandas.core.indexes.range', 'sre_compile', 'pkg_resources._vendor.threading', 'dateutil.tz._factories', '_hashlib', 'pandas.tseries.offsets', 'pandas.core.dtypes.datetime', 'numpy.lib.shape_base', 'logging.collections', '_csv', 'email.base64', 'nose.plugins.threading', 'nose.plugins.unittest', 'multiprocessing.atexit', 'numpy.sys', 'numpy.core._dtype', 'pandas.core.tools.numpy', 'dateutil._version', 'matplotlib._color_data', 'unittest.result', 'bz2', 'dateutil.parser', 'nose.config', 'encodings.codecs', 'pandas.core.gc', 'pandas.plotting._misc', 'email.MIMEMultipart', 'pandas.core.util.pandas', 'email.string', 'unittest.difflib', '_ssl', 'numpy.lib.index_tricks', 'dateutil.parser.six', 'warnings', 'encodings.ascii', 'pandas.core.indexes.datetimelike', 'pandas._libs.tslibs.pytz', 'pandas.compat.struct', 'abc', 'pandas.core.dtypes.dtypes', 'pandas.core.groupby.functools', 'numpy.__config__', 'nose.plugins.StringIO', 'pandas.core.algorithms', 'pandas.compat.cStringIO', 'multiprocessing._multiprocessing', 'pandas.core.dtypes.common', 'bdb', 'pkg_resources.extern.six.moves', 'nose.tools.trivial', 'nose.plugins.pickle', 'pandas.plotting.__future__', 'numpy.linalg.linalg', 'nose.plugins.debug', 'nose.ConfigParser', 'numpy.lib._iotools', 'email.iterators', 'matplotlib.cbook.functools', 'pandas.core.frame', 'pandas.core.__future__', 'pandas._libs.tslibs.re', 'random', 'unittest.types', 'nose.plugins.isolate', 'datetime', 'pandas.core.sparse.pandas', 'pandas._libs.pandas', 'logging.os', 'ctypes._endian', 'encodings.encodings', 'unittest.pprint', 'matplotlib.sys', 'nose.cStringIO', 'numpy.core.functools', 'xml', 'copy', 'importlib', 'nose.stat', 'six.moves.urllib.request', 'numpy.linalg', 'pandas.compat.numpy.re', 'pkg_resources._vendor.warnings', 'logging.thread', 'pandas.plotting._core', 'numpy.core._type_aliases', 'numpy.lib._version', 'pandas.util', 'nose.plugins.__future__', 'zipfile', 'repr', 'ssl', 'pytz.tzinfo', 'dateutil.parser.dateutil', 'pytz.datetime', 'hotshot', 'new', 'distutils.re', 'nose.plugins.errorclass', 'pytz.UserDict', 'nose.plugins.inspect', 'nose.plugins.pkg_resources', 'pandas.core.series', 'numpy.lib.type_check', 'pandas.core.index', 'pandas._libs.tslibs.dateutil', 'resource', 'bisect', 'pandas.core.indexes.interval', 'unittest.runner', 'nose.__future__', 'unittest.re', 'threading', 'nose.plugins.skip', 'pkg_resources._vendor.six.moves', 'nose.failure', 'dateutil.tz.functools', 'hotshot._hotshot', 'cycler', 'dateutil.tz.bisect', 'email.Message', 'pandas._libs.tslibs.sys', 'pytz.tzfile', 'pandas.compat.chainmap', 'locale', 'pandas.core.dtypes.base', 'pandas.compat.__builtin__', 'atexit', 'email.quopriMIME', 'pkg_resources._vendor.re', 'dateutil.parser.io', 'pandas.core.generic', 'pandas.core.groupby.contextlib', 'calendar', 'pandas._libs.tslibs.strptime', 'pandas.core.arrays.base', 'nose.imp', 'dateutil', 'plistlib', 'pandas.tseries.numpy', 'pandas.io.urlparse', 'numpy.lib.histograms', 'pandas._libs.indexing', 'urllib', 'numpy.core.numerictypes', 'pandas.plotting.operator', 'nose.plugins.xunit', 'pkg_resources.extern.packaging.version', 'nose.tokenize', 'pkg_resources._vendor.string', 'pkg_resources.sys', 'email', 'fcntl', 'unittest.case', 'pandas.io.httplib', 'pandas.tseries.re', 'pandas.io.zipfile', 'pandas.core.indexes.sys', 'Queue', 'numpy.lib.info', 'ctypes', 'matplotlib', 'nose.inspector', 'pandas._libs.numpy', 'pandas.util._decorators', 'pandas.compat', 'nose.plugins.hotshot', 'nose.importer', 'pandas.core.sparse.array', 'unittest.signal', 'json.scanner', 'pytz.lazy', 'itertools', 'numpy.fft.fftpack', 'opcode', 'pstats', 'pandas.compat.chainmap_impl', 'pdb', 'pandas._libs.ops', 'pandas.core.groupby.warnings', 'six.moves', 'numpy.testing._private.nosetester', 'email.uu', 'nose.plugins.codecs', 'unittest', 'pandas.compat.numpy.function', 'email.calendar', 'nose.util', 'encodings.unicode_escape', 'pandas._libs.distutils', 'numpy.testing._private.utils', 'unittest.collections', 'pandas.core.tools.datetime', 'pkgutil', 'platform', 'pandas.compat.itertools', 'nose.plugins.base', 'mmap', 'sre_constants', 'pandas.util._validators', 'numpy.core._methods', 'pandas.io.formats.functools', 'numpy.core.function_base', 'numpy.compat.py3k', 'pkg_resources._vendor.sre_constants', 'numpy', 'pandas._libs.tslibs', 'parser', 'pandas.core', 'pandas.core.indexing', 'dateutil.parser.time', 'email.utils', 'numpy.ma', 'nose.plugins.builtin', 'pandas.compat.numpy', 'pandas.plotting._tools', 'pytz', 'logging.atexit', 'pandas.core.indexes.datetimes', 'hotshot.symbol', 'pandas.core.dtypes', 'email.MIMENonMultipart', 'pandas.core.contextlib', 'email.email', 'pandas.io.formats.__future__', 'pandas._libs.pytz', 'zlib', 'pandas.core.util.hashing', 'nose.plugins.capture', 'pandas.io.formats.pandas', 'nose.types', 'multiprocessing.weakref', 'pytz.bisect', 'json.decoder', 'pandas.core.missing', 'copy_reg', 'pkg_resources._vendor.packaging.specifiers', 'pkg_resources._vendor.appdirs', 'nose.plugins.logging', '__main__', 'site', 'nose.proxy', 'dateutil.tz', 'pandas.plotting.pandas', 'io', 'numpy.fft.info', 'shutil', 'dateutil.parser.datetime', 'pandas._libs.tslibs.warnings', 'pandas.plotting', 'pandas.io.formats', 'nose.plugins.time', 'email.binascii', 'nose.tools.re', 'pandas._libs.tslibs.calendar', 'pandas.io.pandas', 'pandas.core.dtypes.generic', 'pandas.core.common', 'pkg_resources.extern', 'numpy.lib.utils', 'numpy.random', 'rfc822', 'numpy.polynomial.polyutils', 'json.json', 'email.re', 'sys', 'numpy.compat._inspect', 'pandas.core.indexes.timedeltas', 'multiprocessing.subprocess', 'nose.logging', 'email.cStringIO', 'pandas.core.codecs', 'pandas.core.indexes.base', 'pandas.core.itertools', 'pkg_resources._vendor.packaging', 'matplotlib.fontconfig_pattern', '_weakref', 'dateutil.parser.decimal', 'difflib', 'pkg_resources.extern.pyparsing', 'urlparse', 'pandas.compat.thread', 'unittest.warnings', 'gzip', 'pandas.plotting.distutils', 'nose.case', 'pandas.core.dtypes.re', 'heapq', 'pytz.struct', 'xml.sax.urlparse', 'distutils', 'pytz.threading', 'pandas._libs.tslibs.np_datetime', 'numpy.core._dtype_ctypes', 'numpy.core.einsumfunc', 'pkg_resources.extern.packaging', 'matplotlib.cbook.deprecation', 'matplotlib.colors', 'email.mime', 'struct', 'backports_abc', 'pandas.core.dtypes.cast', 'xml.sax.urllib', 'pandas.core.weakref', 'numpy.core.ctypes', 'numpy.testing', '_abcoll', 'collections', 'pkg_resources._vendor.sys', 'numpy.core._multiarray_umath', 'unittest.main', 'email.Parser', 'distutils.types', 'pytz.os', 'nose.plugins.pdb', 'zipimport', 'pkg_resources._vendor.packaging._structures', 'pkg_resources.extern.sys', 'pkg_resources.extern.packaging.markers', 'nose.plugins.cStringIO', 'textwrap', 'pandas._libs.tslibs.fields', 'pandas.plotting._compat', 'pandas.core.dtypes.warnings', 'pandas.core.datetime', 'pandas.tseries.frequencies', 'ConfigParser', 'multiprocessing.multiprocessing', 'signal', 'numpy.random.operator', 'pandas.compat.inspect', 'nose', 'pandas.compat.cPickle', 'numpy.core.multiarray', 'quopri', 'dateutil.parser.functools', 'pandas.io.formats.format', 'distutils.version', 'pkg_resources.py31compat', 'numpy.ma.core', 'pandas.core.groupby.types', 'pandas._libs.tslibs.collections', 'numpy.core.getlimits', 'pandas.core.indexes.numeric', 'hotshot.os', 'dateutil.tz.sys', 'nose.plugins.collect', 'pandas.datetime', 'pandas.io.formats.shutil', 'nose.unittest', 'logging.traceback', 'pandas.core.sparse.numpy', 'numpy.matrixlib', '_multiprocessing', 'pandas.core.dtypes.inference', 'pandas.core.arrays.numpy', 'backports', 'nose.warnings', 'pandas.core.tools', 'numpy.lib.mixins', 'pandas.core.warnings', '_posixsubprocess32', 'dateutil.parser.re', 'email.errors', 'nose.plugins.manager', 'pandas._libs', 'pandas.core.config_init', 'pandas.compat.sys', 'pandas.core.groupby.textwrap', 'mpl_toolkits', 'UserDict', 'pandas.core.sparse', 'inspect', 'six.moves.urllib', 'numpy.polynomial.laguerre', 'logging.sys', 'dateutil.calendar', 'unittest.loader', '_functools', 'json.sys', 'email.Iterators', 'socket', 'pandas.tseries.functools', 'numpy.core.memmap', 'numpy.core.overrides', 'email.base64MIME', 'cython_runtime', 'pandas.compat.re', 'nose.result', 'dateutil.math', 'email.Charset', 'nose.suite', 'nose.plugins.prof', 'os', 'marshal', '__future__', 'numpy.core.shape_base', 'pandas.io.functools', 'matplotlib.compat', '__builtin__', 'nose.re', 'pandas._libs.tslibs.offsets', 'numpy.polynomial', 'xml.sax.xmlreader', 'pandas.core.api', 'operator', 'pandas.core.internals', 'distutils.string', 'pandas.core.json', 'pandas.core.ops', 'pandas.tseries', 'pandas.core.indexes', 'pandas._libs.tslib', 'pandas.plotting.datetime', 'pandas._libs.missing', 'multiprocessing.threading', 'pkg_resources._vendor.packaging.requirements', '_socket', 'dateutil.parser.string', 'email.Utils', 'pandas.compat.dateutil', 'xml.sax.handler', 'pytz.sys', '_warnings', 'pandas._libs.algos', 'pandas.util.textwrap', 'encodings.__builtin__', 'pandas.core.indexes.datetime', 'nose.plugins.cPickle', 'tokenize', 'email.os', 'pandas.io.formats.console', 'numpy._distributor_init', 'nose.plugins.itertools', 'pwd', 'nose.plugins.nose', 'pandas._libs.lib', 'pandas.core.groupby.collections', '_sysconfigdata', '_struct', 'pandas._libs.internals', 'numpy.core.numpy', 'nose.textwrap', 'uu', 'numpy.fft', 'numpy.random.numpy', 'logging.time', 'pandas._libs.tslibs.thread', 'matplotlib.compat.subprocess', 'pandas.core.arrays', 'pandas.core.tools.pandas', 'numpy.lib.function_base', 'logging.warnings', 'nose.plugins.textwrap', 'mimetools', 'nose.exc', 'multiprocessing.signal', 'dateutil.datetime', 'xml.sax', 'nose.inspect', 'logging.codecs', '_random', 'encodings', 'numpy.polynomial._polybase', 'numpy.polynomial.hermite', 'contextlib', 'pandas._libs.datetime', 'numpy.polynomial.polynomial', 'pandas.io.os', 'matplotlib.cbook._backports', 'email.Generator', 'pandas.core.sorting', '_io', 'pandas.core.groupby.datetime', 'importlib.sys', 'grp', 'linecache', 'numpy.core.defchararray', 'gettext', 'nose.tools.nose', 'pandas.core.arrays.warnings', 'email.warnings', 'pandas', 'xml.sax._exceptions', 'pandas.core.config', 'genericpath', 'stat', 'nose.plugins.Queue', 'pandas.io.formats.numpy', 'symbol', 'urllib2', 'unittest.signals', 'numpy.core.warnings', 'email.Encoders', 'backports.functools_lru_cache', 'ctypes.ctypes', 'nose.plugins.multiprocess', 'numpy.lib.format', 'hotshot.pstats', 'subprocess32', 'pandas.core.indexes.api', 'pandas.core.indexes.pytz', 'sitecustomize', 'numpy.testing._private.decorators', 'pandas._libs.sys', 'pandas._libs.tslibs.numpy', 'nose.plugins.allmodules', 'json.re', 'pkg_resources._vendor.types', 'nose.tools.time', 'time', 'pandas.core.util.itertools', 'nose.plugins.warnings', 'future_builtins']\r\n",
      "--------------------- >> end captured logging << ---------------------\r\n",
      "\r\n",
      "----------------------------------------------------------------------\r\n",
      "Ran 1 test in 0.001s\r\n",
      "\r\n",
      "FAILED (failures=1)\r\n"
     ]
    }
   ],
   "source": [
    "! nosetests tests/test_environment.py"
   ]
  },
  {
   "cell_type": "markdown",
   "metadata": {},
   "source": [
    "## 1. Preprocessing\n",
    "\n",
    "We'll be using Pandas dataframes to do some of our work. Start by reading a chunk of the data into a dataframe:"
   ]
  },
  {
   "cell_type": "code",
   "execution_count": 7,
   "metadata": {},
   "outputs": [],
   "source": [
    "df_train = pd.read_csv('lyrics-train.csv')\n",
    "df_dev = pd.read_csv('lyrics-dev.csv')\n",
    "df_test = pd.read_csv('lyrics-test-hidden.csv')"
   ]
  },
  {
   "cell_type": "code",
   "execution_count": 8,
   "metadata": {},
   "outputs": [
    {
     "data": {
      "text/html": [
       "<div>\n",
       "<style scoped>\n",
       "    .dataframe tbody tr th:only-of-type {\n",
       "        vertical-align: middle;\n",
       "    }\n",
       "\n",
       "    .dataframe tbody tr th {\n",
       "        vertical-align: top;\n",
       "    }\n",
       "\n",
       "    .dataframe thead th {\n",
       "        text-align: right;\n",
       "    }\n",
       "</style>\n",
       "<table border=\"1\" class=\"dataframe\">\n",
       "  <thead>\n",
       "    <tr style=\"text-align: right;\">\n",
       "      <th></th>\n",
       "      <th>Era</th>\n",
       "      <th>Lyrics</th>\n",
       "    </tr>\n",
       "  </thead>\n",
       "  <tbody>\n",
       "    <tr>\n",
       "      <th>0</th>\n",
       "      <td>pre-1980</td>\n",
       "      <td>come on come on let me show you where its at a...</td>\n",
       "    </tr>\n",
       "    <tr>\n",
       "      <th>1</th>\n",
       "      <td>1980s</td>\n",
       "      <td>welcome to the big time youre bound to be a s...</td>\n",
       "    </tr>\n",
       "    <tr>\n",
       "      <th>2</th>\n",
       "      <td>pre-1980</td>\n",
       "      <td>once i believed that when love came to me it ...</td>\n",
       "    </tr>\n",
       "    <tr>\n",
       "      <th>3</th>\n",
       "      <td>2000s</td>\n",
       "      <td>i took my love and i took it down climbed a m...</td>\n",
       "    </tr>\n",
       "    <tr>\n",
       "      <th>4</th>\n",
       "      <td>pre-1980</td>\n",
       "      <td>do do do do do do do do do do do do do do do ...</td>\n",
       "    </tr>\n",
       "  </tbody>\n",
       "</table>\n",
       "</div>"
      ],
      "text/plain": [
       "        Era                                             Lyrics\n",
       "0  pre-1980  come on come on let me show you where its at a...\n",
       "1     1980s   welcome to the big time youre bound to be a s...\n",
       "2  pre-1980   once i believed that when love came to me it ...\n",
       "3     2000s   i took my love and i took it down climbed a m...\n",
       "4  pre-1980   do do do do do do do do do do do do do do do ..."
      ]
     },
     "execution_count": 8,
     "metadata": {},
     "output_type": "execute_result"
    }
   ],
   "source": [
    "df_train.head()"
   ]
  },
  {
   "cell_type": "markdown",
   "metadata": {},
   "source": [
    "## Bag of words\n",
    "\n",
    "The first step is to write functions to produce a bag-of-words representation of each input song (using counts). For this data set, much of the work is already done: each song is already lower-cased, tokenized appropriately (modulo a few errors), and has had its punctuation removed.\n",
    "\n",
    "* **Deliverable 1.1**: Complete the function `hw2_utils.preproc.bag_of_words`\n",
    "\n",
    "* **Test**: `nosetests tests/test_preproc.py:test_d1_1_bow`"
   ]
  },
  {
   "cell_type": "code",
   "execution_count": 9,
   "metadata": {},
   "outputs": [],
   "source": [
    "from hw2_utils import preproc"
   ]
  },
  {
   "cell_type": "code",
   "execution_count": 10,
   "metadata": {},
   "outputs": [],
   "source": [
    "# run this block as you update the Python file, to trigger a reload in the notebook\n",
    "reload(preproc);"
   ]
  },
  {
   "cell_type": "code",
   "execution_count": 11,
   "metadata": {},
   "outputs": [],
   "source": [
    "y_train, x_train = preproc.read_data('lyrics-train.csv')"
   ]
  },
  {
   "cell_type": "code",
   "execution_count": 12,
   "metadata": {},
   "outputs": [
    {
     "name": "stdout",
     "output_type": "stream",
     "text": [
      "E\r\n",
      "======================================================================\r\n",
      "ERROR: Failure: ImportError (No module named nltk.tokenize)\r\n",
      "----------------------------------------------------------------------\r\n",
      "Traceback (most recent call last):\r\n",
      "  File \"/home/spencer/.local/lib/python2.7/site-packages/nose/loader.py\", line 418, in loadTestsFromName\r\n",
      "    addr.filename, addr.module)\r\n",
      "  File \"/home/spencer/.local/lib/python2.7/site-packages/nose/importer.py\", line 47, in importFromPath\r\n",
      "    return self.importFromDir(dir_path, fqname)\r\n",
      "  File \"/home/spencer/.local/lib/python2.7/site-packages/nose/importer.py\", line 94, in importFromDir\r\n",
      "    mod = load_module(part_fqname, fh, filename, desc)\r\n",
      "  File \"/home/spencer/ohsu/562/homework_2/tests/test_preproc.py\", line 3, in <module>\r\n",
      "    from hw2_utils import preproc\r\n",
      "  File \"/home/spencer/ohsu/562/homework_2/tests/hw2_utils/preproc.py\", line 2, in <module>\r\n",
      "    from nltk.tokenize import word_tokenize\r\n",
      "ImportError: No module named nltk.tokenize\r\n",
      "\r\n",
      "----------------------------------------------------------------------\r\n",
      "Ran 1 test in 0.000s\r\n",
      "\r\n",
      "FAILED (errors=1)\r\n"
     ]
    }
   ],
   "source": [
    "! nosetests tests/test_preproc.py:test_d1_1_bow"
   ]
  },
  {
   "cell_type": "code",
   "execution_count": 13,
   "metadata": {},
   "outputs": [],
   "source": [
    "y_dev, x_dev = preproc.read_data('lyrics-dev.csv')\n",
    "y_test, x_test = preproc.read_data('lyrics-test-hidden.csv')"
   ]
  },
  {
   "cell_type": "markdown",
   "metadata": {},
   "source": [
    "## Unseen words\n",
    "\n",
    "One challenge for text classification is that words may appear in the test data that do not appear in the training data. In order to know how big of a problem this will be, it is useful to do some exploratory data analysis into word frequencies and vocabulary overlap. Since we don't want to look at the test data itself, we'll start by looking into the number of words that appear in `lyrics-dev.csv` but not in `lyrics-train.csv`.\n",
    "\n",
    "* **Deliverable 1.2**: Implement `hw2_utils.preproc.aggregate_counts`, a function to combine [`Counter`s](https://docs.python.org/3/library/collections.html#collections.Counter) representing document-level bags-of-words into a single `Counter` representing a collection of documents.\n",
    "* **Deliverable 1.3**: Implement `hw2_utils.preproc.compute_oov`, which returns a list of words that appear in one bag-of-words but not another.\n",
    "* **Tests**: `tests/test_preproc.py:test_d1_2_agg`, `tests/test_preproc.py:test_d1_3_oov`"
   ]
  },
  {
   "cell_type": "code",
   "execution_count": 14,
   "metadata": {},
   "outputs": [],
   "source": [
    "from collections import Counter"
   ]
  },
  {
   "cell_type": "code",
   "execution_count": 15,
   "metadata": {},
   "outputs": [],
   "source": [
    "reload(preproc);"
   ]
  },
  {
   "cell_type": "markdown",
   "metadata": {},
   "source": [
    "_Tip_: You may find it worthwhile or useuful to use the `%%timeit` Jupyter magic directive to evaluate the performance of your algorithm:"
   ]
  },
  {
   "cell_type": "code",
   "execution_count": 16,
   "metadata": {
    "scrolled": false
   },
   "outputs": [
    {
     "name": "stdout",
     "output_type": "stream",
     "text": [
      "17.6 ms ± 6.46 ms per loop (mean ± std. dev. of 7 runs, 10 loops each)\n"
     ]
    }
   ],
   "source": [
    "%%timeit\n",
    "preproc.aggregate_counts(x_dev)"
   ]
  },
  {
   "cell_type": "markdown",
   "metadata": {},
   "source": [
    "`Counter`s are very useful tools! Note that many common set operations (intersection, etc.) are available, but be warned that they are sometimes _not_ the most performant way to work with Counters. Consult the documentation for details. \n",
    "\n",
    "You can see the most items in a `Counter` using the `most_common()` method:"
   ]
  },
  {
   "cell_type": "code",
   "execution_count": 17,
   "metadata": {
    "scrolled": true
   },
   "outputs": [
    {
     "data": {
      "text/plain": [
       "[('you', 5542), ('i', 5535), ('the', 5061), ('to', 3203), ('and', 2953)]"
      ]
     },
     "execution_count": 17,
     "metadata": {},
     "output_type": "execute_result"
    }
   ],
   "source": [
    "counts_dev = preproc.aggregate_counts(x_dev)\n",
    "counts_train = preproc.aggregate_counts(x_train)\n",
    "counts_dev.most_common(5)"
   ]
  },
  {
   "cell_type": "code",
   "execution_count": 18,
   "metadata": {
    "scrolled": false
   },
   "outputs": [
    {
     "name": "stdout",
     "output_type": "stream",
     "text": [
      "118 ms ± 1.88 ms per loop (mean ± std. dev. of 7 runs, 10 loops each)\n"
     ]
    }
   ],
   "source": [
    "%%timeit\n",
    "preproc.aggregate_counts(x_train)"
   ]
  },
  {
   "cell_type": "code",
   "execution_count": 19,
   "metadata": {
    "scrolled": true
   },
   "outputs": [
    {
     "data": {
      "text/plain": [
       "2677"
      ]
     },
     "execution_count": 19,
     "metadata": {},
     "output_type": "execute_result"
    }
   ],
   "source": [
    "len(preproc.compute_oov(counts_dev, counts_train))"
   ]
  },
  {
   "cell_type": "code",
   "execution_count": 20,
   "metadata": {},
   "outputs": [
    {
     "data": {
      "text/plain": [
       "30459"
      ]
     },
     "execution_count": 20,
     "metadata": {},
     "output_type": "execute_result"
    }
   ],
   "source": [
    "len(preproc.compute_oov(counts_train, counts_dev))"
   ]
  },
  {
   "cell_type": "code",
   "execution_count": 21,
   "metadata": {},
   "outputs": [
    {
     "data": {
      "text/plain": [
       "0.297246280257606"
      ]
     },
     "execution_count": 21,
     "metadata": {},
     "output_type": "execute_result"
    }
   ],
   "source": [
    "preproc.oov_rate(counts_dev, counts_train)"
   ]
  },
  {
   "cell_type": "markdown",
   "metadata": {},
   "source": [
    "Looks like just under 30% of the words in the dev set do not appear in the training set."
   ]
  },
  {
   "cell_type": "markdown",
   "metadata": {},
   "source": [
    "## Power laws\n",
    "\n",
    "As we've discussed, word count distributions typically follow a [power law](https://en.wikipedia.org/wiki/Power_law) distribution.\n",
    "\n",
    "In practice, this means that a log-log plot of frequency against rank should be linear-ish. Let's see if this holds for our data!"
   ]
  },
  {
   "cell_type": "code",
   "execution_count": 22,
   "metadata": {},
   "outputs": [
    {
     "data": {
      "text/plain": [
       "<matplotlib.legend.Legend at 0x7fcc0f53d4a8>"
      ]
     },
     "execution_count": 22,
     "metadata": {},
     "output_type": "execute_result"
    },
    {
     "data": {
      "image/png": "[encoded data removed]",
      "text/plain": [
       "<Figure size 432x288 with 1 Axes>"
      ]
     },
     "metadata": {
      "needs_background": "light"
     },
     "output_type": "display_data"
    }
   ],
   "source": [
    "plt.loglog([val for word, val in counts_train.most_common()])\n",
    "plt.loglog([val for word, val in counts_dev.most_common()])\n",
    "plt.xlabel('rank')\n",
    "plt.ylabel('frequency')\n",
    "plt.legend(['Training', 'Dev'])"
   ]
  },
  {
   "cell_type": "markdown",
   "metadata": {},
   "source": [
    "Making plots like this is a very helpful \"sanity check\", to make sure that our data looks like we're expecting it to."
   ]
  },
  {
   "cell_type": "markdown",
   "metadata": {},
   "source": [
    "## Pruning the vocabulary\n",
    "\n",
    "Let's prune the vocabulary to only include words that appear at least _ten_ times in the training data.\n",
    "\n",
    "* **Deliverable 1.4**: Implement `preproc.prune_vocabulary`\n",
    "* **Test**: `tests/test_preproc.py:test_d1_4_prune`"
   ]
  },
  {
   "cell_type": "code",
   "execution_count": 23,
   "metadata": {},
   "outputs": [],
   "source": [
    "reload(preproc);"
   ]
  },
  {
   "cell_type": "code",
   "execution_count": 24,
   "metadata": {},
   "outputs": [],
   "source": [
    "x_train_pruned, vocab = preproc.prune_vocabulary(counts_train, x_train, 10)\n",
    "x_dev_pruned, _ = preproc.prune_vocabulary(counts_train, x_dev, 10)\n",
    "x_test_pruned, _ = preproc.prune_vocabulary(counts_train, x_test, 10)"
   ]
  },
  {
   "cell_type": "code",
   "execution_count": 25,
   "metadata": {},
   "outputs": [
    {
     "data": {
      "text/plain": [
       "4875"
      ]
     },
     "execution_count": 25,
     "metadata": {},
     "output_type": "execute_result"
    }
   ],
   "source": [
    "len(vocab)"
   ]
  },
  {
   "cell_type": "code",
   "execution_count": 26,
   "metadata": {},
   "outputs": [
    {
     "name": "stdout",
     "output_type": "stream",
     "text": [
      "orig pruned\n",
      "88 79\n",
      "187 176\n"
     ]
    }
   ],
   "source": [
    "print(\"orig\",\"pruned\")\n",
    "print(len(x_dev[94]), len(x_dev_pruned[94]))\n",
    "print(sum(x_dev[94].values()), sum(x_dev_pruned[94].values()))"
   ]
  },
  {
   "cell_type": "markdown",
   "metadata": {},
   "source": [
    "# 2. Linear classification\n",
    "\n",
    "\n",
    "Now, you'll implement a simple linear classification rule, $\\hat{y}=\\text{argmax}_y \\theta^T f(x,y)$\n",
    "\n",
    "The functions you write in this section will be used for all the classifiers in the rest of the assignment."
   ]
  },
  {
   "cell_type": "code",
   "execution_count": 27,
   "metadata": {},
   "outputs": [],
   "source": [
    "from hw2_utils import clf_base\n",
    "reload(clf_base);\n",
    "\n",
    "from hw2_utils import constants\n",
    "reload(constants);"
   ]
  },
  {
   "cell_type": "markdown",
   "metadata": {},
   "source": [
    "The first step is to write a feature extraction function. A convenient way to represent a feature function vector $f(x,y)$ for a document $x$ is as a dict, where each value $j$ is the value of the $j$th feature $x_j$ (counts of word occurrence, or whatever it is that you're using as features), and the keys are tuples $(y, x_j)$ indicating _which_ feature-class relationship is being stored.\n",
    "\n",
    "* **Deliverable 2.1**: Implement the function `make_feature_vector` in `clf_base.py`\n",
    "* **Test**: `tests/test_classifier.py:test_d2_1_featvec`\n",
    "\n",
    "_Note_ that you'll also want to make sure to include the bias/offset feature as well, from `hw2_utils.constants.OFFSET`.\n",
    "\n",
    "Desired output is shown below:"
   ]
  },
  {
   "cell_type": "code",
   "execution_count": 28,
   "metadata": {
    "scrolled": true
   },
   "outputs": [
    {
     "data": {
      "text/plain": [
       "{('1980s', 'test'): 1, ('1980s', 'case'): 2, ('1980s', '**OFFSET**'): 1}"
      ]
     },
     "execution_count": 28,
     "metadata": {},
     "output_type": "execute_result"
    }
   ],
   "source": [
    "fv = clf_base.make_feature_vector({'test':1, 'case':2}, '1980s')\n",
    "fv"
   ]
  },
  {
   "cell_type": "markdown",
   "metadata": {},
   "source": [
    "What is the entire set of labels?"
   ]
  },
  {
   "cell_type": "code",
   "execution_count": 29,
   "metadata": {},
   "outputs": [
    {
     "data": {
      "text/plain": [
       "{'1980s', '1990s', '2000s', 'pre-1980'}"
      ]
     },
     "execution_count": 29,
     "metadata": {},
     "output_type": "execute_result"
    }
   ],
   "source": [
    "labels = set(y_train) # all possible labels\n",
    "labels"
   ]
  },
  {
   "cell_type": "markdown",
   "metadata": {},
   "source": [
    "Now, implement the prediction rule $\\hat{y}=\\text{argmax}_y \\theta^T f(x,y)$.\n",
    "\n",
    "* **Deliverable 2.2**: Implement the function `predict` in `clf_base.py`.\n",
    "* **Test**: `tests/test_classifier.py:test_d2_2_predict`\n",
    "\n",
    "The output should be:\n",
    "\n",
    "* A predicted label\n",
    "* The scores of all labels\n",
    "\n",
    "This function will be called a **lot**, so do try and make it fast. You don't need to do anything too over-the-top, but look for ways to avoid making your code do extra or repeated work. Remember, `%%timeit` can help you explore how different versions of your algorithm perform."
   ]
  },
  {
   "cell_type": "markdown",
   "metadata": {},
   "source": [
    "Test your function using the unit test, but also with these simple hand-crafted weights:"
   ]
  },
  {
   "cell_type": "code",
   "execution_count": 30,
   "metadata": {},
   "outputs": [],
   "source": [
    "from collections import defaultdict"
   ]
  },
  {
   "cell_type": "code",
   "execution_count": 31,
   "metadata": {},
   "outputs": [],
   "source": [
    "# weight vectors _must_ be defaultdicts as per the specification for predict()\n",
    "theta_hand = defaultdict(float, \n",
    "            {('2000s', 'money'): 0.1,\n",
    "             ('2000s', 'name'): 0.2,\n",
    "             ('1980s','tonight'): 0.1,\n",
    "             ('2000s','man'): 0.1,\n",
    "             ('1990s','fly'): 0.1,\n",
    "             ('pre-1980',constants.OFFSET): 0.1\n",
    "\n",
    "            })\n"
   ]
  },
  {
   "cell_type": "code",
   "execution_count": 32,
   "metadata": {},
   "outputs": [],
   "source": [
    "reload(clf_base);"
   ]
  },
  {
   "cell_type": "code",
   "execution_count": 33,
   "metadata": {
    "scrolled": true
   },
   "outputs": [
    {
     "data": {
      "text/plain": [
       "('2000s',\n",
       " {'1980s': 0.0, '1990s': 0.0, '2000s': 1.3000000000000003, 'pre-1980': 0.1})"
      ]
     },
     "execution_count": 33,
     "metadata": {},
     "output_type": "execute_result"
    }
   ],
   "source": [
    "clf_base.predict(x_train_pruned[0], theta_hand, labels)"
   ]
  },
  {
   "cell_type": "markdown",
   "metadata": {},
   "source": [
    "Now, let's see how well these weights work, by evaluating on the dev set. We'll be using raw classification accuracy here, though that is often not the best choice of metric."
   ]
  },
  {
   "cell_type": "code",
   "execution_count": 34,
   "metadata": {},
   "outputs": [],
   "source": [
    "from hw2_utils import evaluation"
   ]
  },
  {
   "cell_type": "code",
   "execution_count": 35,
   "metadata": {},
   "outputs": [
    {
     "name": "stdout",
     "output_type": "stream",
     "text": [
      "0.3422222222222222\n"
     ]
    }
   ],
   "source": [
    "y_hat = clf_base.predict_all(x_dev_pruned, theta_hand, labels)\n",
    "print(evaluation.acc(y_hat, y_dev))"
   ]
  },
  {
   "cell_type": "markdown",
   "metadata": {},
   "source": [
    "Just how imbalanced _are_ our classes, anyway?"
   ]
  },
  {
   "cell_type": "code",
   "execution_count": 36,
   "metadata": {
    "scrolled": false
   },
   "outputs": [
    {
     "data": {
      "text/plain": [
       "(array(['1980s', '1990s', '2000s', 'pre-1980'], dtype=object),\n",
       " array([104,  95, 127, 124]))"
      ]
     },
     "execution_count": 36,
     "metadata": {},
     "output_type": "execute_result"
    }
   ],
   "source": [
    "np.unique(y_dev, return_counts=True)"
   ]
  },
  {
   "cell_type": "markdown",
   "metadata": {},
   "source": [
    "In the case of our `dev` data split, there is certainly some class imbalance, though it is not nearly as severe as is often the case in text classification. Using straight-up classification accuracy is not _totally_ unreasonable in this case, though one should make sure to compare it against \"random choice\" as well as \"most-frequent class\" baselines."
   ]
  },
  {
   "cell_type": "markdown",
   "metadata": {},
   "source": [
    "# 3. Naïve Bayes\n",
    "\n",
    "You'll now implement a Naïve Bayes classifier, as described in the reading. For a more detailed implementation guide, consult chapter 2 of the Eisenstein notes."
   ]
  },
  {
   "cell_type": "code",
   "execution_count": 37,
   "metadata": {},
   "outputs": [],
   "source": [
    "from hw2_utils import naive_bayes\n",
    "reload(naive_bayes);"
   ]
  },
  {
   "cell_type": "markdown",
   "metadata": {},
   "source": [
    "* **Deliverable 3.1**: (warmup) implement `get_corpus_counts` in `naive_bayes.py`.\n",
    "* **Test**: `tests/test_classifier.py:test_d3_1_corpus_counts`\n",
    "\n",
    "This function should compute unigram word frequency counts for a given label:"
   ]
  },
  {
   "cell_type": "code",
   "execution_count": 38,
   "metadata": {},
   "outputs": [
    {
     "name": "stdout",
     "output_type": "stream",
     "text": [
      "50\n",
      "14\n"
     ]
    }
   ],
   "source": [
    "eighties_counts = naive_bayes.get_corpus_counts(x_train_pruned, y_train, '1980s');\n",
    "print(eighties_counts['today'])\n",
    "print(eighties_counts['yesterday'])"
   ]
  },
  {
   "cell_type": "markdown",
   "metadata": {},
   "source": [
    "* **Deliverable 3.2**: Implement `estimate_pxy` in `naive_bayes.py`\n",
    "* **Test**: `tests/test_classifier.py:test_d3_2_pxy`\n",
    "\n",
    "This function should compute the _smoothed_ multinomial distribution $\\log P(x|y)$ for a given label $y$.\n",
    "\n",
    "_Hint_: Note that this function takes the entire vocabulary as one of its arguments. You'll need to assign a probability even for words that do not appear in documents with label $y$, if they are in-vocabulary.\n",
    "\n",
    "You can use `get_corpus_counts` in this function if you want to, but you don't have to."
   ]
  },
  {
   "cell_type": "code",
   "execution_count": 39,
   "metadata": {},
   "outputs": [],
   "source": [
    "log_pxy = naive_bayes.estimate_pxy(x_train_pruned, y_train, \"1980s\", 0.1, vocab)"
   ]
  },
  {
   "cell_type": "markdown",
   "metadata": {},
   "source": [
    "Your probabilities must sum to one! (Or very close- [floating point roundoff](https://en.wikipedia.org/wiki/Round-off_error#Roundoff_error_caused_by_floating-point_arithmetic), dontcha know)."
   ]
  },
  {
   "cell_type": "code",
   "execution_count": 40,
   "metadata": {
    "scrolled": false
   },
   "outputs": [
    {
     "data": {
      "text/plain": [
       "0.9993674510044938"
      ]
     },
     "execution_count": 40,
     "metadata": {},
     "output_type": "execute_result"
    }
   ],
   "source": [
    "sum(np.exp(list(log_pxy.values())))"
   ]
  },
  {
   "cell_type": "markdown",
   "metadata": {},
   "source": [
    "Following Emily Bender's wisdom, let's Look 👏 At 👏 Our 👏 Data!\n",
    "\n",
    "We can examine the log-probabilities of the words from our hand-tuned weights:"
   ]
  },
  {
   "cell_type": "code",
   "execution_count": 41,
   "metadata": {
    "scrolled": false
   },
   "outputs": [
    {
     "data": {
      "text/plain": [
       "{'money': -7.689562807416732,\n",
       " 'name': -7.568324713816848,\n",
       " 'tonight': -6.216637557007501,\n",
       " 'man': -6.631876946457839,\n",
       " 'fly': -8.636944126360918,\n",
       " '**OFFSET**': 0.0}"
      ]
     },
     "execution_count": 41,
     "metadata": {},
     "output_type": "execute_result"
    }
   ],
   "source": [
    "{word:log_pxy[word] for (_, word), weight in theta_hand.items() if weight > 0}"
   ]
  },
  {
   "cell_type": "markdown",
   "metadata": {},
   "source": [
    "What happens if we adjust our smoothing?"
   ]
  },
  {
   "cell_type": "code",
   "execution_count": 42,
   "metadata": {},
   "outputs": [],
   "source": [
    "log_pxy_smoother = naive_bayes.estimate_pxy(x_train_pruned, y_train, \"1980s\",10, vocab)"
   ]
  },
  {
   "cell_type": "code",
   "execution_count": 43,
   "metadata": {},
   "outputs": [
    {
     "data": {
      "text/plain": [
       "{'money': -7.801363512554179,\n",
       " 'name': -7.691160372420565,\n",
       " 'tonight': -6.4054072405225515,\n",
       " 'man': -6.808471387093178,\n",
       " 'fly': -8.60745110429472,\n",
       " '**OFFSET**': 0.0}"
      ]
     },
     "execution_count": 43,
     "metadata": {},
     "output_type": "execute_result"
    }
   ],
   "source": [
    "{word:log_pxy_smoother[word] for (_, word), weight in theta_hand.items() if weight > 0}"
   ]
  },
  {
   "cell_type": "markdown",
   "metadata": {},
   "source": [
    "These are all relatively frequent words, and so their smoothed estimates aren't really all that different. What if we look at a less-common word?"
   ]
  },
  {
   "cell_type": "code",
   "execution_count": 44,
   "metadata": {},
   "outputs": [
    {
     "name": "stdout",
     "output_type": "stream",
     "text": [
      "2\n",
      "-11.481299646970376\n",
      "-9.951185850995815\n"
     ]
    }
   ],
   "source": [
    "print(eighties_counts['smiles'])\n",
    "print(log_pxy['smiles'])\n",
    "print(log_pxy_smoother['smiles'])"
   ]
  },
  {
   "cell_type": "markdown",
   "metadata": {},
   "source": [
    "This is a much larger change- remember, we're in log-space!\n",
    "\n",
    "You are now ready to...\n",
    "\n",
    "* **Deliverable 3.3**: Implement `estimate_nb` in `naive_bayes.py`. This function will estimate label-specific weights ($\\theta_{y,j}$ in the notation used by Eisenstein) in the same data format as the weights in `theta_hand` above. \n",
    "* **Test**: `tests/test_classifier.py:test_d3_3a_nb`\n",
    "\n",
    "* The goal is that the score given by `clf_base.predict` is equal to the joint probability $P(x,y)$ as described in Chapter 2 of the Eisenstein text.\n",
    "* Remember, the offset feature will act as the _prior_ $\\log P(y)$, and should not be smoothed\n",
    "\n",
    "_Tip_: Recall that each weight is supposed to represent the conditional probability of a particular word occurring in a given class."
   ]
  },
  {
   "cell_type": "code",
   "execution_count": 45,
   "metadata": {},
   "outputs": [],
   "source": [
    "reload(naive_bayes);"
   ]
  },
  {
   "cell_type": "code",
   "execution_count": 46,
   "metadata": {
    "scrolled": true
   },
   "outputs": [],
   "source": [
    "theta_nb = naive_bayes.estimate_nb(x_train_pruned, y_train, 0.1)"
   ]
  },
  {
   "cell_type": "code",
   "execution_count": 47,
   "metadata": {},
   "outputs": [
    {
     "data": {
      "text/plain": [
       "('2000s',\n",
       " {'1980s': -2151.4071189200154,\n",
       "  '1990s': -2123.5384805249946,\n",
       "  '2000s': -2098.1171382269617,\n",
       "  'pre-1980': -2135.5914539611445})"
      ]
     },
     "execution_count": 47,
     "metadata": {},
     "output_type": "execute_result"
    }
   ],
   "source": [
    "clf_base.predict(x_train_pruned[155], theta_nb, labels)"
   ]
  },
  {
   "cell_type": "code",
   "execution_count": 48,
   "metadata": {},
   "outputs": [
    {
     "name": "stdout",
     "output_type": "stream",
     "text": [
      "0.46444444444444444\n"
     ]
    }
   ],
   "source": [
    "y_hat = clf_base.predict_all(x_dev_pruned, theta_nb, labels)\n",
    "print(evaluation.acc(y_hat, y_dev))"
   ]
  },
  {
   "cell_type": "markdown",
   "metadata": {},
   "source": [
    "As part of the submission of this assignment, you will provide me with your classifier's predictions, which I will validate as part of grading. There are utility functions in `hw2_utils.evaluation` that will automatically produce output in the required format:"
   ]
  },
  {
   "cell_type": "code",
   "execution_count": 49,
   "metadata": {},
   "outputs": [],
   "source": [
    "evaluation.write_predictions(y_hat, 'nb-dev.preds')"
   ]
  },
  {
   "cell_type": "markdown",
   "metadata": {},
   "source": [
    "There is also a function to read them back in:"
   ]
  },
  {
   "cell_type": "code",
   "execution_count": 50,
   "metadata": {},
   "outputs": [
    {
     "data": {
      "text/plain": [
       "0.46444444444444444"
      ]
     },
     "execution_count": 50,
     "metadata": {},
     "output_type": "execute_result"
    }
   ],
   "source": [
    "y_hat_dev = evaluation.read_predictions('nb-dev.preds')\n",
    "evaluation.acc(y_hat_dev, y_dev)"
   ]
  },
  {
   "cell_type": "markdown",
   "metadata": {},
   "source": [
    "Use this to produce your predicted classifications on the test set:"
   ]
  },
  {
   "cell_type": "code",
   "execution_count": 51,
   "metadata": {},
   "outputs": [],
   "source": [
    "y_hat_test = clf_base.predict_all(x_test_pruned, theta_nb, labels)\n",
    "evaluation.write_predictions(y_hat_test, 'nb-test.preds')"
   ]
  },
  {
   "cell_type": "markdown",
   "metadata": {},
   "source": [
    "Up to now, we have set our smoothing parameter to 0.1. As we saw earlier, though, different amounts of smoothing can have big effects on our learned model weights.\n",
    "\n",
    "* **Deliverable 3.4**: Implement the `find_best_smoother` function in `naive_bayes.py`, which will grid search over a range of smoothing factors and find the optimal one.\n",
    "* **Test**: `tests/test_classifier.py:test_d3_4a_nb_best`\n",
    "\n",
    "Your function should try at least the values set in the `vals` variable below. Once you have obtained the optimal smoothing value, export your predictions on the test subset."
   ]
  },
  {
   "cell_type": "code",
   "execution_count": 52,
   "metadata": {},
   "outputs": [
    {
     "name": "stdout",
     "output_type": "stream",
     "text": [
      "[1.00000000e-03 1.83298071e-03 3.35981829e-03 6.15848211e-03\n",
      " 1.12883789e-02 2.06913808e-02 3.79269019e-02 6.95192796e-02\n",
      " 1.27427499e-01 2.33572147e-01 4.28133240e-01 7.84759970e-01\n",
      " 1.43844989e+00 2.63665090e+00 4.83293024e+00 8.85866790e+00\n",
      " 1.62377674e+01 2.97635144e+01 5.45559478e+01 1.00000000e+02]\n"
     ]
    }
   ],
   "source": [
    "vals = np.logspace(-3, 2, 20)\n",
    "print(vals)"
   ]
  },
  {
   "cell_type": "code",
   "execution_count": 53,
   "metadata": {},
   "outputs": [],
   "source": [
    "reload(naive_bayes);"
   ]
  },
  {
   "cell_type": "code",
   "execution_count": 54,
   "metadata": {
    "scrolled": true
   },
   "outputs": [
    {
     "name": "stderr",
     "output_type": "stream",
     "text": [
      "100%|██████████| 20/20 [03:08<00:00,  8.99s/it]\n"
     ]
    },
    {
     "data": {
      "text/plain": [
       "4.832930238571752"
      ]
     },
     "execution_count": 54,
     "metadata": {},
     "output_type": "execute_result"
    }
   ],
   "source": [
    "best_smoother, scores = naive_bayes.find_best_smoother(\n",
    "    x_train_pruned, y_train, x_dev_pruned, y_dev, vals\n",
    ")\n",
    "best_smoother"
   ]
  },
  {
   "cell_type": "code",
   "execution_count": 55,
   "metadata": {},
   "outputs": [
    {
     "data": {
      "text/plain": [
       "Text(0, 0.5, 'dev set accuracy')"
      ]
     },
     "execution_count": 55,
     "metadata": {},
     "output_type": "execute_result"
    },
    {
     "data": {
      "image/png": "[encoded data removed]",
      "text/plain": [
       "<Figure size 432x288 with 1 Axes>"
      ]
     },
     "metadata": {
      "needs_background": "light"
     },
     "output_type": "display_data"
    }
   ],
   "source": [
    "plt.semilogx(list(scores.keys()), list(scores.values()), 'o-');\n",
    "plt.xlabel('smoothing factor')\n",
    "plt.ylabel('dev set accuracy')"
   ]
  },
  {
   "cell_type": "markdown",
   "metadata": {},
   "source": [
    "**Reflect**:\n",
    "\n",
    "* What might explain the dramatic drop in accuracy when the smoothing increases from 10 to 30?\n",
    "* Beore you check, predict whether hte accuracy will continue to significantly drop if you increase it to 100000.\n",
    "\n",
    "End this section by writing your best predictions out:"
   ]
  },
  {
   "cell_type": "code",
   "execution_count": 56,
   "metadata": {},
   "outputs": [],
   "source": [
    "theta_nb_best = naive_bayes.estimate_nb(x_train_pruned, y_train, best_smoother)\n",
    "y_hat_nb_best = clf_base.predict_all(x_test_pruned, theta_nb_best, labels)\n",
    "evaluation.write_predictions(y_hat_nb_best, 'nb-best-test.preds')"
   ]
  },
  {
   "cell_type": "markdown",
   "metadata": {},
   "source": [
    "# 4. Feature Engineering\n",
    "\n",
    "You can add non-BoW features to your model (in fact, we already have: our bias/offset feature). In order to facilitate additional exploration along these lines, we'll need to change how we're calling our `predict()` function. Up to now, we've been passing it a `Counter` object; now we need to turn that `Counter` into a dictionary, so we can add additional arbitrary features.\n",
    "\n",
    "## 4.1 Example feature: Token-Type Ratio\n",
    "\n",
    "One particularly useful additional feature is the token-type ratio:\n",
    "\n",
    "$$ \\frac{\\text{length of song in tokens}}{\\text{number of distinct types}} = \\frac{\\sum_m w_m}{\\sum_m \\delta(w_m > 0)} $$\n",
    "\n",
    "Intuititively, the more repetitive a song is, the higher its token-type ratio will be. For empty songs (length of zero tokens), this feature should be 0.\n",
    "\n",
    "* **Deliverable 7.1**: Implement `get_token_type_ratio` in `features.py`\n",
    "* **Test**: `tests/test_features.py:test_d4_1_token_type_ratio`"
   ]
  },
  {
   "cell_type": "code",
   "execution_count": 57,
   "metadata": {},
   "outputs": [],
   "source": [
    "from hw2_utils import features\n",
    "reload(features);"
   ]
  },
  {
   "cell_type": "markdown",
   "metadata": {},
   "source": [
    "Token-type ratio for the first five songs:"
   ]
  },
  {
   "cell_type": "code",
   "execution_count": 58,
   "metadata": {
    "scrolled": true
   },
   "outputs": [
    {
     "data": {
      "text/plain": [
       "[5.083333333333333,\n",
       " 2.6,\n",
       " 1.9113924050632911,\n",
       " 2.318840579710145,\n",
       " 6.188679245283019]"
      ]
     },
     "execution_count": 58,
     "metadata": {},
     "output_type": "execute_result"
    }
   ],
   "source": [
    "[features.get_token_type_ratio(x_train_pruned[i]) for i in range(5)]"
   ]
  },
  {
   "cell_type": "markdown",
   "metadata": {},
   "source": [
    "## 4.2 Binning"
   ]
  },
  {
   "cell_type": "markdown",
   "metadata": {},
   "source": [
    "Once we have a token-type ratio, we must include it in our feature vectors. A good way to do that is to _bin_ the feature into several bins:\n",
    "\n",
    "$\\{[(0,1),[1,2),[2,3),[3,4),[4,5),[5,6),[6,\\infty)\\}$\n",
    "\n",
    "In other words, for each instance, we will now have seven additional pseudo-features, one per bin. Exactly one will have the value of 1, the rest will be set to zero. Look in `hw2_utils.constants` for feature names for these bins.\n",
    "\n",
    "* **Deliverable 4.2**: Implement `concat_ttr_binned_feaures` in `features.py`\n",
    "* **Test**: `tests/test_features.py:test_d4_2_discretize`"
   ]
  },
  {
   "cell_type": "code",
   "execution_count": 59,
   "metadata": {},
   "outputs": [],
   "source": [
    "reload(features);\n",
    "reload(constants);"
   ]
  },
  {
   "cell_type": "code",
   "execution_count": 60,
   "metadata": {},
   "outputs": [
    {
     "data": {
      "text/plain": [
       "{'every': 10,\n",
       " 'time': 10,\n",
       " 'i': 34,\n",
       " 'move': 4,\n",
       " 'lose': 4,\n",
       " 'when': 5,\n",
       " 'look': 4,\n",
       " 'im': 22,\n",
       " 'in': 22,\n",
       " 'and': 4,\n",
       " 'turn': 6,\n",
       " 'around': 7,\n",
       " 'back': 37,\n",
       " 'love': 20,\n",
       " 'get': 3,\n",
       " 'mixed': 3,\n",
       " 'emotions': 3,\n",
       " 'its': 3,\n",
       " 'the': 1,\n",
       " 'way': 1,\n",
       " 'my': 2,\n",
       " 'feelings': 1,\n",
       " 'flow': 1,\n",
       " 'excuse': 1,\n",
       " 'me': 5,\n",
       " 'only': 1,\n",
       " 'human': 1,\n",
       " 'sometimes': 1,\n",
       " 'just': 5,\n",
       " 'dont': 3,\n",
       " 'know': 2,\n",
       " 'again': 15,\n",
       " 'you': 2,\n",
       " 'put': 1,\n",
       " 'your': 2,\n",
       " 'arms': 1,\n",
       " 'feel': 1,\n",
       " 'so': 3,\n",
       " 'satisfied': 1,\n",
       " 'want': 2,\n",
       " 'to': 3,\n",
       " 'forever': 1,\n",
       " 'cant': 3,\n",
       " 'decide': 1,\n",
       " 'right': 12,\n",
       " 'alright': 5,\n",
       " 'seems': 6,\n",
       " 'like': 6,\n",
       " 'now': 1,\n",
       " 'lover': 1,\n",
       " 'hard': 1,\n",
       " 'be': 1,\n",
       " 'a': 1,\n",
       " 'friend': 1,\n",
       " 'thats': 1,\n",
       " 'something': 1,\n",
       " 'else': 1,\n",
       " 'guess': 1,\n",
       " 'ever': 1,\n",
       " 'it': 3,\n",
       " 'end': 1,\n",
       " 'that': 1,\n",
       " 'believe': 2,\n",
       " 'many': 2,\n",
       " 'oh': 2,\n",
       " 'jones': 1,\n",
       " 'coming': 1,\n",
       " 'down': 1,\n",
       " 'help': 3,\n",
       " 'yeah': 1,\n",
       " 'yes': 1,\n",
       " 'do': 1,\n",
       " '**TTR_0_1**': 0,\n",
       " '**TTR_1_2**': 0,\n",
       " '**TTR_2_3**': 0,\n",
       " '**TTR_3_4**': 0,\n",
       " '**TTR_4_5**': 1,\n",
       " '**TTR_5_6**': 0,\n",
       " '**TTR_6_INF**': 0}"
      ]
     },
     "execution_count": 60,
     "metadata": {},
     "output_type": "execute_result"
    }
   ],
   "source": [
    "features.concat_ttr_binned_features(dict(x_dev_pruned[0]))"
   ]
  },
  {
   "cell_type": "markdown",
   "metadata": {},
   "source": [
    "## 4.3 Does it affect performance?\n",
    "\n",
    "If we use this new feature in our prediction, what happens?"
   ]
  },
  {
   "cell_type": "code",
   "execution_count": 61,
   "metadata": {},
   "outputs": [],
   "source": [
    "x_train_pruned_with_ttr = [features.concat_ttr_binned_features(dict(x_i)) \n",
    "                           for x_i in x_train_pruned]\n",
    "\n",
    "theta_nb_ttr = naive_bayes.estimate_nb(x_train_pruned_with_ttr, y_train, 0.1)"
   ]
  },
  {
   "cell_type": "code",
   "execution_count": 62,
   "metadata": {
    "scrolled": true
   },
   "outputs": [
    {
     "name": "stdout",
     "output_type": "stream",
     "text": [
      "0.47555555555555556\n"
     ]
    }
   ],
   "source": [
    "x_dev_pruned_with_ttr = [features.concat_ttr_binned_features(dict(x_i)) \n",
    "                           for x_i in x_dev_pruned]\n",
    "\n",
    "y_hat_ttr = clf_base.predict_all(x_dev_pruned_with_ttr, theta_nb_ttr, labels)\n",
    "print(evaluation.acc(y_hat_ttr, y_dev))"
   ]
  },
  {
   "cell_type": "markdown",
   "metadata": {},
   "source": [
    "Looks like that feature got us a small performance bump!\n",
    "\n",
    "_Reflect_: What are some additional features that might help?"
   ]
  },
  {
   "cell_type": "markdown",
   "metadata": {},
   "source": [
    "# 5. Logistic Regression\n",
    "\n",
    "In practice, it is rare to build the entire feature-generation pipeline entirely from scratch as we have thus far in this assignment. Scikit-Learn  (`sklearn`) is a massive Python library with many useful off-the-shelf machine learning models, as well as utility functions for feature extraction and transformation. In this section, you will experiment with an off-the-shelf implementation of logistic regression (which we may revisit in more detail in a future assignment).\n",
    "\n",
    "A `sklearn` workflow typically starts by using one of the automated feature extraction classes. The equivalent to the simple count-based bag-of-words that we've been using thus far is [`sklearn.feature_extraction.text.CountVectorizer`](https://scikit-learn.org/stable/modules/generated/sklearn.feature_extraction.text.CountVectorizer.html#sklearn.feature_extraction.text.CountVectorizer). There are several text feature extraction classes, and they have a variety of options in terms of tokenization, punctuation handling, etc.- consult the documentation!\n",
    "\n",
    "This part of the assignment will require much less coding, and is more exploratory."
   ]
  },
  {
   "cell_type": "code",
   "execution_count": 63,
   "metadata": {},
   "outputs": [],
   "source": [
    "from sklearn.feature_extraction.text import CountVectorizer"
   ]
  },
  {
   "cell_type": "markdown",
   "metadata": {},
   "source": [
    "If we already know what we want our vocabulary to be, we can initialize it with an iterable of strings; otherwise, it can build its vocabulary automatically (using its `fit()` method). In this case, we will initialize it to use our already-pruned vocabulary:"
   ]
  },
  {
   "cell_type": "code",
   "execution_count": 64,
   "metadata": {},
   "outputs": [
    {
     "data": {
      "text/plain": [
       "<5x4875 sparse matrix of type '<class 'numpy.int64'>'\n",
       "\twith 377 stored elements in Compressed Sparse Row format>"
      ]
     },
     "execution_count": 64,
     "metadata": {},
     "output_type": "execute_result"
    }
   ],
   "source": [
    "count_vec = CountVectorizer(vocabulary=vocab)\n",
    "\n",
    "count_vec.transform(df_train.Lyrics[:5])"
   ]
  },
  {
   "cell_type": "code",
   "execution_count": 65,
   "metadata": {},
   "outputs": [],
   "source": [
    "X_mat_dev = count_vec.transform(df_dev.Lyrics)\n",
    "X_mat_train = count_vec.transform(df_train.Lyrics)\n",
    "X_mat_test = count_vec.transform(df_test.Lyrics)"
   ]
  },
  {
   "cell_type": "markdown",
   "metadata": {},
   "source": [
    "Once our data is in the `scipy` sparse matrix format, we can use any of the built-in `sklearn` classifiers. For example, naïve Bayes:"
   ]
  },
  {
   "cell_type": "code",
   "execution_count": 66,
   "metadata": {},
   "outputs": [],
   "source": [
    "from sklearn.naive_bayes import MultinomialNB"
   ]
  },
  {
   "cell_type": "markdown",
   "metadata": {},
   "source": [
    "One nice thing about `sklearn` is that all of the classifiers follow a common API:"
   ]
  },
  {
   "cell_type": "code",
   "execution_count": 67,
   "metadata": {},
   "outputs": [
    {
     "data": {
      "text/plain": [
       "MultinomialNB(alpha=0.1, class_prior=None, fit_prior=True)"
      ]
     },
     "execution_count": 67,
     "metadata": {},
     "output_type": "execute_result"
    }
   ],
   "source": [
    "nb = MultinomialNB(alpha=0.1)\n",
    "nb.fit(X_mat_train, df_train.Era)"
   ]
  },
  {
   "cell_type": "code",
   "execution_count": 68,
   "metadata": {},
   "outputs": [],
   "source": [
    "y_hat_dev = nb.predict(X_mat_dev)"
   ]
  },
  {
   "cell_type": "markdown",
   "metadata": {},
   "source": [
    "Another nice thing: `sklearn` has many built-in utility functions for evaluation classifier performance:"
   ]
  },
  {
   "cell_type": "code",
   "execution_count": 69,
   "metadata": {},
   "outputs": [],
   "source": [
    "from sklearn.metrics import accuracy_score, confusion_matrix, classification_report"
   ]
  },
  {
   "cell_type": "code",
   "execution_count": 70,
   "metadata": {},
   "outputs": [
    {
     "data": {
      "text/plain": [
       "0.46"
      ]
     },
     "execution_count": 70,
     "metadata": {},
     "output_type": "execute_result"
    }
   ],
   "source": [
    "accuracy_score(y_hat_dev, df_dev.Era)"
   ]
  },
  {
   "cell_type": "markdown",
   "metadata": {},
   "source": [
    "This is exactly the same accuracy as we saw with our hand-rolled implementation!\n",
    "\n",
    "We can also print confusion matrices, and more detailed classification output:"
   ]
  },
  {
   "cell_type": "code",
   "execution_count": 71,
   "metadata": {},
   "outputs": [
    {
     "data": {
      "text/plain": [
       "array([[54, 33, 28, 34],\n",
       "       [16, 25, 16, 22],\n",
       "       [13, 25, 68,  8],\n",
       "       [21, 12, 15, 60]])"
      ]
     },
     "execution_count": 71,
     "metadata": {},
     "output_type": "execute_result"
    }
   ],
   "source": [
    "confusion_matrix(y_hat_dev, df_dev.Era)"
   ]
  },
  {
   "cell_type": "code",
   "execution_count": 72,
   "metadata": {},
   "outputs": [
    {
     "name": "stdout",
     "output_type": "stream",
     "text": [
      "              precision    recall  f1-score   support\n",
      "\n",
      "       1980s       0.52      0.36      0.43       149\n",
      "       1990s       0.26      0.32      0.29        79\n",
      "       2000s       0.54      0.60      0.56       114\n",
      "    pre-1980       0.48      0.56      0.52       108\n",
      "\n",
      "   micro avg       0.46      0.46      0.46       450\n",
      "   macro avg       0.45      0.46      0.45       450\n",
      "weighted avg       0.47      0.46      0.46       450\n",
      "\n"
     ]
    }
   ],
   "source": [
    "print(classification_report(y_hat_dev, df_dev.Era))"
   ]
  },
  {
   "cell_type": "code",
   "execution_count": 73,
   "metadata": {},
   "outputs": [],
   "source": [
    "from hw2_utils import clf_sklearn\n",
    "reload(clf_sklearn);"
   ]
  },
  {
   "cell_type": "markdown",
   "metadata": {},
   "source": [
    "Next, explore the multinomial logistic regression classifier in `sklearn.linear_model.LogisticRegression`. Pay attention \n",
    "\n",
    "* **Deliverable 5.1**: Implement `train_logistic_regression` in `clf_sklearn.py`\n",
    "* **Test**: `tests/test_clf_sklearn.py:test_d5_1_train_logistic`\n",
    "\n",
    "What is the classification accuracy for this classifier using bag-of-words features?"
   ]
  },
  {
   "cell_type": "code",
   "execution_count": 74,
   "metadata": {},
   "outputs": [
    {
     "name": "stderr",
     "output_type": "stream",
     "text": [
      "[Parallel(n_jobs=1)]: Using backend SequentialBackend with 1 concurrent workers.\n"
     ]
    },
    {
     "name": "stdout",
     "output_type": "stream",
     "text": [
      "convergence after 3597 epochs took 40 seconds\n"
     ]
    },
    {
     "name": "stderr",
     "output_type": "stream",
     "text": [
      "[Parallel(n_jobs=1)]: Done   1 out of   1 | elapsed:   39.7s finished\n"
     ]
    }
   ],
   "source": [
    "lr = clf_sklearn.train_logistic_regression(X_mat_train, df_train.Era)"
   ]
  },
  {
   "cell_type": "code",
   "execution_count": 75,
   "metadata": {},
   "outputs": [],
   "source": [
    "y_hat_dev = lr.predict(X_mat_dev)"
   ]
  },
  {
   "cell_type": "code",
   "execution_count": 76,
   "metadata": {},
   "outputs": [
    {
     "data": {
      "text/plain": [
       "0.4688888888888889"
      ]
     },
     "execution_count": 76,
     "metadata": {},
     "output_type": "execute_result"
    }
   ],
   "source": [
    "accuracy_score(y_hat_dev, df_dev.Era)"
   ]
  },
  {
   "cell_type": "markdown",
   "metadata": {},
   "source": [
    "This is exactly the same accuracy as we saw with our hand-rolled implementation!\n",
    "\n",
    "We can also print confusion matrices, and more detailed classification output:"
   ]
  },
  {
   "cell_type": "code",
   "execution_count": 77,
   "metadata": {},
   "outputs": [
    {
     "data": {
      "text/plain": [
       "array([[34, 19, 18, 30],\n",
       "       [20, 38, 11, 22],\n",
       "       [20, 22, 83, 16],\n",
       "       [30, 16, 15, 56]])"
      ]
     },
     "execution_count": 77,
     "metadata": {},
     "output_type": "execute_result"
    }
   ],
   "source": [
    "confusion_matrix(y_hat_dev, df_dev.Era)"
   ]
  },
  {
   "cell_type": "code",
   "execution_count": 78,
   "metadata": {},
   "outputs": [
    {
     "name": "stdout",
     "output_type": "stream",
     "text": [
      "              precision    recall  f1-score   support\n",
      "\n",
      "       1980s       0.33      0.34      0.33       101\n",
      "       1990s       0.40      0.42      0.41        91\n",
      "       2000s       0.65      0.59      0.62       141\n",
      "    pre-1980       0.45      0.48      0.46       117\n",
      "\n",
      "   micro avg       0.47      0.47      0.47       450\n",
      "   macro avg       0.46      0.46      0.46       450\n",
      "weighted avg       0.48      0.47      0.47       450\n",
      "\n"
     ]
    }
   ],
   "source": [
    "print(classification_report(y_hat_dev, df_dev.Era))"
   ]
  },
  {
   "cell_type": "markdown",
   "metadata": {},
   "source": [
    "It is very common to transform raw count features before using them as input into a classifier. One important transformation is _Term Frequency/Inverse Document Frequency_ (TF/IDF), which attempts to normalize for the fact that certain words have inflated raw counts because they are more commonly used across all documents (\"the\" is a good example).\n",
    "\n",
    "`sklearn` has a [`sklearn.feature_extraction.text.TfidfTransformer`](https://scikit-learn.org/stable/modules/generated/sklearn.feature_extraction.text.TfidfTransformer.html#sklearn.feature_extraction.text.TfidfTransformer) class, which can transform a count matrix producd using the `CountVectorizer` class we used above. (There is also a `TfidfVectorizer` that can do the counting and transformation in one step).\n",
    "\n",
    "Adjust your model to use TF/IDF-adjusted word counts. Note that, just as we earlier had to \"pin\" our vocabulary to that used in the training set, we need to first _fit_ the transformer- in other words, tell it which document frequencies to use. You'll want to make sure those are consistent across train/dev/test splits.\n",
    "\n",
    "* **Deliverable 5.2**: Implement `transform_tf_idf` in `clf_sklearn.py`, and use it to train and evaluate a new logistic regression model uing the transformed counts.\n",
    "* **Test**: `tests/test_clf_sklearn.py:test_d5_2_tf_idf`\n",
    "\n",
    "_Reflect_: What happens to the classification accuracy of the logistic regression model using adjusted feature counts?"
   ]
  },
  {
   "cell_type": "code",
   "execution_count": 79,
   "metadata": {},
   "outputs": [],
   "source": [
    "reload(clf_sklearn);"
   ]
  },
  {
   "cell_type": "code",
   "execution_count": 80,
   "metadata": {},
   "outputs": [],
   "source": [
    "count_vec = CountVectorizer(vocabulary=vocab)\n",
    "X_train_counts = count_vec.transform(df_train.Lyrics)\n",
    "X_dev_counts = count_vec.transform(df_dev.Lyrics)\n",
    "X_test_counts = count_vec.transform(df_test.Lyrics)\n",
    "(train_tfidf, dev_tfidf, test_dfidf), tf_transformer = clf_sklearn.transform_tf_idf(X_train_counts, X_dev_counts, X_test_counts)"
   ]
  },
  {
   "cell_type": "markdown",
   "metadata": {},
   "source": [
    "You can ask a `Vectorizer` for an ordered list of feature labels:"
   ]
  },
  {
   "cell_type": "code",
   "execution_count": 81,
   "metadata": {},
   "outputs": [
    {
     "data": {
      "text/plain": [
       "['1', '10', '100', '1130', '12']"
      ]
     },
     "execution_count": 81,
     "metadata": {},
     "output_type": "execute_result"
    }
   ],
   "source": [
    "count_vec.get_feature_names()[:5] # list just the first five features"
   ]
  },
  {
   "cell_type": "code",
   "execution_count": 82,
   "metadata": {
    "scrolled": true
   },
   "outputs": [
    {
     "data": {
      "text/plain": [
       "array([[0, 0, 0, ..., 0, 0, 0]])"
      ]
     },
     "execution_count": 82,
     "metadata": {},
     "output_type": "execute_result"
    }
   ],
   "source": [
    "short_song = count_vec.transform([\"you and me and you\"])\n",
    "short_song.toarray() # note the value of feature 0 (\"you\"):"
   ]
  },
  {
   "cell_type": "code",
   "execution_count": 83,
   "metadata": {
    "scrolled": true
   },
   "outputs": [
    {
     "data": {
      "text/plain": [
       "array([[0, 0, 0, ..., 0, 0, 0]])"
      ]
     },
     "execution_count": 83,
     "metadata": {},
     "output_type": "execute_result"
    }
   ],
   "source": [
    "shorter_song = count_vec.transform([\"you and me and\"])\n",
    "shorter_song.toarray()"
   ]
  },
  {
   "cell_type": "code",
   "execution_count": 84,
   "metadata": {},
   "outputs": [
    {
     "name": "stdout",
     "output_type": "stream",
     "text": [
      "0.0\n",
      "0.0\n"
     ]
    }
   ],
   "source": [
    "short_song_tfidf = tf_transformer.transform(short_song)\n",
    "shorter_song_tfidf = tf_transformer.transform(shorter_song)\n",
    "\n",
    "print(short_song_tfidf.toarray()[0,0])\n",
    "print(shorter_song_tfidf.toarray()[0,0])"
   ]
  },
  {
   "cell_type": "markdown",
   "metadata": {},
   "source": [
    "# The End!\n",
    "\n",
    "Run the `make_submission.sh` script to package up your submission, and turn in your results!"
   ]
  }
 ],
 "metadata": {
  "kernelspec": {
   "display_name": "Python 3",
   "language": "python",
   "name": "python3"
  },
  "language_info": {
   "codemirror_mode": {
    "name": "ipython",
    "version": 3
   },
   "file_extension": ".py",
   "mimetype": "text/x-python",
   "name": "python",
   "nbconvert_exporter": "python",
   "pygments_lexer": "ipython3",
   "version": "3.6.7"
  }
 },
 "nbformat": 4,
 "nbformat_minor": 2
}
